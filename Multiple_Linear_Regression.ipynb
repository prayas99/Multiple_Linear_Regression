{
  "nbformat": 4,
  "nbformat_minor": 0,
  "metadata": {
    "colab": {
      "name": "Multiple_Linear_Regression.ipynb",
      "provenance": [],
      "collapsed_sections": []
    },
    "kernelspec": {
      "name": "python3",
      "display_name": "Python 3"
    }
  },
  "cells": [
    {
      "cell_type": "markdown",
      "metadata": {
        "id": "90-i9niMfdgd"
      },
      "source": [
        "## Multiple Linear Regression\n",
        "\n",
        "\n",
        "$$\n",
        "y = \\beta_0 + \\beta_1 x_1 +\\beta_2 x_2 + ... + \\epsilon\n",
        "$$"
      ]
    },
    {
      "cell_type": "markdown",
      "metadata": {
        "id": "ntKGoZLingYe"
      },
      "source": [
        ""
      ]
    },
    {
      "cell_type": "code",
      "metadata": {
        "id": "KrHkER4efULh"
      },
      "source": [
        "%matplotlib inline\n",
        "import math\n",
        "import matplotlib.pyplot as plt\n",
        "import seaborn as sns; sns.set()\n",
        "import numpy as np"
      ],
      "execution_count": null,
      "outputs": []
    },
    {
      "cell_type": "code",
      "metadata": {
        "id": "C1-VkkBpjwuM"
      },
      "source": [
        "beta='\\N{greek small letter beta}'"
      ],
      "execution_count": null,
      "outputs": []
    },
    {
      "cell_type": "markdown",
      "metadata": {
        "id": "ZopKHWxdc6pm"
      },
      "source": [
        "Create data set for a 3D feature vector\n",
        "\n",
        "$$\n",
        "y = \\beta_0 + \\beta_1 x_1+ \\beta_2 x_2+ \\beta_3 x_3 + \\epsilon\n",
        "$$\n",
        "\n",
        "\n",
        "To generate data we assign values to the coefficients\n",
        "$$\n",
        "y = 0.5 + 1.5 x_1 - 2 x_2+ 1 x_3 + 0.2*N(0,1)\n",
        "$$"
      ]
    },
    {
      "cell_type": "code",
      "metadata": {
        "id": "AghElVUwfnwr"
      },
      "source": [
        "rng = np.random.RandomState(1)\n",
        "X = 10 * rng.rand(100, 3)\n",
        "y = 0.5 + np.dot(X, [1.5, -2., 1.])+ 0.2*rng.randn(100)"
      ],
      "execution_count": null,
      "outputs": []
    },
    {
      "cell_type": "markdown",
      "metadata": {
        "id": "F3DB_oP1f8T9"
      },
      "source": [
        "Use Scikit-Learn's Linear_model to fit the model"
      ]
    },
    {
      "cell_type": "code",
      "metadata": {
        "id": "Jfy6SfYYgELt",
        "colab": {
          "base_uri": "https://localhost:8080/",
          "height": 35
        },
        "outputId": "d68a15e8-1f5a-41a5-c8d8-6da263d26d19"
      },
      "source": [
        "from sklearn.linear_model import LinearRegression\n",
        "model = LinearRegression(fit_intercept=True)\n",
        "model.fit(X, y)"
      ],
      "execution_count": null,
      "outputs": [
        {
          "output_type": "execute_result",
          "data": {
            "text/plain": [
              "LinearRegression(copy_X=True, fit_intercept=True, n_jobs=None, normalize=False)"
            ]
          },
          "metadata": {
            "tags": []
          },
          "execution_count": 10
        }
      ]
    },
    {
      "cell_type": "markdown",
      "metadata": {
        "id": "hyLII8c3s9ot"
      },
      "source": [
        "Print the fitted coefficients"
      ]
    },
    {
      "cell_type": "code",
      "metadata": {
        "id": "v9Ddlo4liAfD",
        "colab": {
          "base_uri": "https://localhost:8080/",
          "height": 90
        },
        "outputId": "0156ad22-10ee-4db5-c610-df60dfaeb846"
      },
      "source": [
        "print(beta+\"0\"+\": \", model.intercept_)\n",
        "print(beta+\"1\"+\": \", model.coef_[0])\n",
        "print(beta+\"2\"+\": \", model.coef_[1])\n",
        "print(beta+\"3\"+\": \", model.coef_[2])"
      ],
      "execution_count": null,
      "outputs": [
        {
          "output_type": "stream",
          "text": [
            "β0:  0.5312466693153708\n",
            "β1:  1.496319084832724\n",
            "β2:  -1.9952448555294333\n",
            "β3:  0.9945160843244977\n"
          ],
          "name": "stdout"
        }
      ]
    },
    {
      "cell_type": "code",
      "metadata": {
        "id": "0glmecU8kQ1G"
      },
      "source": [
        ""
      ],
      "execution_count": null,
      "outputs": []
    }
  ]
}